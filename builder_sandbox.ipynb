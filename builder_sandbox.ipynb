{
 "cells": [
  {
   "cell_type": "markdown",
   "metadata": {},
   "source": [
    "# Builder123D Sandbox\n",
    "\n",
    "## Important Links:\n",
    "* [Builder123D Github](https://github.com/gumyr/build123d)\n",
    "    * [Documentation](https://build123d.readthedocs.io/en/latest)\n",
    "    * [Geometric & Topological Primitives](https://build123d.readthedocs.io/en/latest/direct_api_reference.html#)\n",
    "    * [1D/2D/3D Objects](https://build123d.readthedocs.io/en/latest/objects.html#)\n",
    "    * [Selectors](https://build123d.readthedocs.io/en/latest/key_concepts.html#selectors)\n",
    "* [VSCode Visualization Plugin](https://marketplace.visualstudio.com/items?itemName=bernhard-42.ocp-cad-viewer)\n",
    "    * [Source](https://github.com/bernhard-42/vscode-ocp-cad-viewer/tree/main)\n",
    "    * [3CAD Viewer](https://github.com/bernhard-42/three-cad-viewer?tab=readme-ov-file), base for the plugin.\n",
    "    * [Animation Primer](https://github.com/bernhard-42/bd_animation)\n",
    "* [Simple CAM package](https://ocp-freecad-cam.readthedocs.io/en/latest/index.html)\n",
    "\n",
    "## Other Links\n",
    "* [List of Links](https://github.com/phillipthelen/awesome-build123d)\n",
    "* [Parts Library](https://github.com/gumyr/bd_warehouse)\n",
    "* [Gridfiniy](https://github.com/Ruudjhuu/gridfinity_build123d)\n",
    "* [Alternate Viewer](https://github.com/yeicor-3d/yet-another-cad-viewer)\n",
    "\n"
   ]
  },
  {
   "cell_type": "code",
   "execution_count": 1,
   "metadata": {},
   "outputs": [],
   "source": [
    "from build123d import *\n",
    "from builder123d_utils import *\n",
    "from ocp_vscode import show, show_object, show_clear\n",
    "from pathlib import Path\n",
    "from operations import OperationFace, stock_make, OperationBore\n",
    "from tools import Tool\n",
    "import numpy as np\n",
    "from typing import List, Tuple\n"
   ]
  },
  {
   "cell_type": "code",
   "execution_count": 16,
   "metadata": {},
   "outputs": [
    {
     "ename": "ZeroDivisionError",
     "evalue": "float division by zero",
     "output_type": "error",
     "traceback": [
      "\u001b[0;31m---------------------------------------------------------------------------\u001b[0m",
      "\u001b[0;31mZeroDivisionError\u001b[0m                         Traceback (most recent call last)",
      "Cell \u001b[0;32mIn[16], line 5\u001b[0m\n\u001b[1;32m      1\u001b[0m \u001b[38;5;66;03m# Center includes Z is centered.\u001b[39;00m\n\u001b[1;32m      2\u001b[0m \u001b[38;5;66;03m# Pitch sign relative to height sign controls direction of rotation.\u001b[39;00m\n\u001b[1;32m      3\u001b[0m \u001b[38;5;66;03m# If signs are the same, rotation is CCW\u001b[39;00m\n\u001b[1;32m      4\u001b[0m \u001b[38;5;66;03m# Negative normal flips the start point across the Y-axis\u001b[39;00m\n\u001b[0;32m----> 5\u001b[0m e \u001b[38;5;241m=\u001b[39m \u001b[43mEdge\u001b[49m\u001b[38;5;241;43m.\u001b[39;49m\u001b[43mmake_helix\u001b[49m\u001b[43m(\u001b[49m\u001b[38;5;241;43m0\u001b[39;49m\u001b[43m,\u001b[49m\u001b[38;5;241;43m0\u001b[39;49m\u001b[43m,\u001b[49m\u001b[38;5;241;43m5\u001b[39;49m\u001b[43m,\u001b[49m\u001b[43m \u001b[49m\u001b[43mcenter\u001b[49m\u001b[38;5;241;43m=\u001b[39;49m\u001b[43m(\u001b[49m\u001b[38;5;241;43m5\u001b[39;49m\u001b[43m,\u001b[49m\u001b[38;5;241;43m5\u001b[39;49m\u001b[43m,\u001b[49m\u001b[38;5;241;43m-\u001b[39;49m\u001b[38;5;241;43m1\u001b[39;49m\u001b[43m)\u001b[49m\u001b[43m)\u001b[49m\n\u001b[1;32m      6\u001b[0m e\u001b[38;5;241m.\u001b[39mlocation\n\u001b[1;32m      7\u001b[0m show_clear()\n",
      "File \u001b[0;32m~/.local/lib/python3.11/site-packages/build123d/topology.py:5293\u001b[0m, in \u001b[0;36mEdge.make_helix\u001b[0;34m(cls, pitch, height, radius, center, normal, angle, lefthand)\u001b[0m\n\u001b[1;32m   5291\u001b[0m line_sign \u001b[38;5;241m=\u001b[39m \u001b[38;5;241m-\u001b[39m\u001b[38;5;241m1\u001b[39m \u001b[38;5;28;01mif\u001b[39;00m lefthand \u001b[38;5;28;01melse\u001b[39;00m \u001b[38;5;241m1\u001b[39m\n\u001b[1;32m   5292\u001b[0m line_dir \u001b[38;5;241m=\u001b[39m Vector(line_sign \u001b[38;5;241m*\u001b[39m \u001b[38;5;241m2\u001b[39m \u001b[38;5;241m*\u001b[39m pi, pitch)\u001b[38;5;241m.\u001b[39mnormalized()\n\u001b[0;32m-> 5293\u001b[0m line_len \u001b[38;5;241m=\u001b[39m (\u001b[43mheight\u001b[49m\u001b[43m \u001b[49m\u001b[38;5;241;43m/\u001b[39;49m\u001b[43m \u001b[49m\u001b[43mline_dir\u001b[49m\u001b[38;5;241;43m.\u001b[39;49m\u001b[43mY\u001b[49m) \u001b[38;5;241m/\u001b[39m cos(radians(angle))\n\u001b[1;32m   5295\u001b[0m \u001b[38;5;66;03m# Create an infinite 2d line in the direction of the  helix\u001b[39;00m\n\u001b[1;32m   5296\u001b[0m helix_line \u001b[38;5;241m=\u001b[39m Geom2d_Line(gp_Pnt2d(\u001b[38;5;241m0\u001b[39m, \u001b[38;5;241m0\u001b[39m), gp_Dir2d(line_dir\u001b[38;5;241m.\u001b[39mX, line_dir\u001b[38;5;241m.\u001b[39mY))\n",
      "\u001b[0;31mZeroDivisionError\u001b[0m: float division by zero"
     ]
    }
   ],
   "source": [
    "# Center includes Z is centered.\n",
    "# Pitch sign relative to height sign controls direction of rotation.\n",
    "# If signs are the same, rotation is CCW\n",
    "# Negative normal flips the start point across the Y-axis\n",
    "e = Edge.make_helix(-1,0,5, center=(5,5,-1))\n",
    "e.location\n",
    "show_clear()\n",
    "show(Wire(e))"
   ]
  },
  {
   "cell_type": "code",
   "execution_count": 3,
   "metadata": {},
   "outputs": [
    {
     "name": "stdout",
     "output_type": "stream",
     "text": [
      "Using port 3939 taken from config file\n",
      "Jupyter console not installed\n",
      "+"
     ]
    }
   ],
   "source": [
    "\n",
    "# Alsways need 3 pieces of geometry for a machining operation:\n",
    "# 1) The part\n",
    "# 2) The stock\n",
    "# 3) The tool\n",
    "\n",
    "# 1) Load a 3D model from a file\n",
    "fn_part = 'simple-part-with-holes.step'\n",
    "part = import_step(fn_part)\n",
    "part.label = Path(fn_part).stem\n",
    "part.color = Color(\"Orange\")\n",
    "part.color = Color(\"Gray\",alpha=0.5)\n",
    "show(part)\n",
    "\n",
    "# 2) Generate fitting stock\n",
    "stock = stock_make(part, margin=2)\n",
    "\n",
    "# 3) Create tool and home it\n",
    "tool = Tool(diameter=3.175, length=25.4)\n",
    "#tool.to_stock_home(stock)"
   ]
  },
  {
   "cell_type": "code",
   "execution_count": 4,
   "metadata": {},
   "outputs": [],
   "source": [
    "# Status:\n",
    "# Bore operation implemented, untested.\n",
    "# Curved wires not implemented yet. - operations.py:445\n",
    "# Curved lofts for generating swept volume not implemented yet\n",
    "\n",
    "op = OperationBore(part, tool, stock)\n",
    "bores = op.bores\n",
    "\n",
    "# [b.show() for b in bores]\n"
   ]
  },
  {
   "cell_type": "markdown",
   "metadata": {},
   "source": []
  },
  {
   "cell_type": "markdown",
   "metadata": {},
   "source": []
  }
 ],
 "metadata": {
  "kernelspec": {
   "display_name": "gcode-utilities-41Lj-jHD",
   "language": "python",
   "name": "python3"
  },
  "language_info": {
   "codemirror_mode": {
    "name": "ipython",
    "version": 3
   },
   "file_extension": ".py",
   "mimetype": "text/x-python",
   "name": "python",
   "nbconvert_exporter": "python",
   "pygments_lexer": "ipython3",
   "version": "3.11.9"
  }
 },
 "nbformat": 4,
 "nbformat_minor": 2
}
