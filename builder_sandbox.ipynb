{
 "cells": [
  {
   "cell_type": "markdown",
   "metadata": {},
   "source": [
    "# Builder123D Sandbox\n",
    "\n",
    "## Important Links:\n",
    "* [Builder123D Github](https://github.com/gumyr/build123d)\n",
    "    * [Documentation](https://build123d.readthedocs.io/en/latest)\n",
    "* [VSCode Visualization Plugin](https://marketplace.visualstudio.com/items?itemName=bernhard-42.ocp-cad-viewer)\n",
    "    * [Source](https://github.com/bernhard-42/vscode-ocp-cad-viewer/tree/main)\n",
    "    * [3CAD Viewer](https://github.com/bernhard-42/three-cad-viewer?tab=readme-ov-file), base for the plugin.\n",
    "    * [Animation Primer](https://github.com/bernhard-42/bd_animation)\n",
    "* [Simple CAM package](https://ocp-freecad-cam.readthedocs.io/en/latest/index.html)\n",
    "\n",
    "## Other Links\n",
    "* [List of Links](https://github.com/phillipthelen/awesome-build123d)\n",
    "* [Parts Library](https://github.com/gumyr/bd_warehouse)\n",
    "* [Gridfiniy](https://github.com/Ruudjhuu/gridfinity_build123d)\n",
    "* [Alternate Viewer](https://github.com/yeicor-3d/yet-another-cad-viewer)\n",
    "\n"
   ]
  },
  {
   "cell_type": "code",
   "execution_count": null,
   "metadata": {},
   "outputs": [],
   "source": [
    "from build123d import *\n",
    "from ocp_vscode import show, show_object, show_clear\n",
    "from pathlib import Path\n",
    "from operations import OperationFace, stock_make\n",
    "from tools import Tool\n"
   ]
  },
  {
   "cell_type": "code",
   "execution_count": null,
   "metadata": {},
   "outputs": [],
   "source": [
    "\n",
    "# Alsways need 3 pieces of geometry for a machining operation:\n",
    "# 1) The part\n",
    "# 2) The stock\n",
    "# 3) The tool\n",
    "\n",
    "# 1) Load a 3D model from a file\n",
    "fn_part = 'simple-part.step'\n",
    "part = import_step(fn_part)\n",
    "part.label = Path(fn_part).stem\n",
    "part.color = Color(\"Orange\")\n",
    "\n",
    "# 2) Generate fitting stock\n",
    "stock = stock_make(part, margin=2)\n",
    "\n",
    "# 3) Create tool and home it\n",
    "tool = Tool(diameter=3.175, length=25.4)\n",
    "tool.to_stock_home(stock)"
   ]
  },
  {
   "cell_type": "code",
   "execution_count": null,
   "metadata": {},
   "outputs": [],
   "source": [
    "f = OperationFace(part=part, tool=tool, stock=stock)\n",
    "f.woc = tool.diameter*0.4\n",
    "f.doc = 0.75\n",
    "f.generate()\n",
    "toolpath = f.toolpath\n",
    "f.save_gcode()\n",
    "stock2 = f.cut(animate=True)\n"
   ]
  },
  {
   "cell_type": "code",
   "execution_count": null,
   "metadata": {},
   "outputs": [],
   "source": [
    "# Update display\n",
    "parts = [part, stock, tool, toolpath, stock2]\n",
    "show(*parts,\n",
    "     # measure_tools=True,\n",
    "     #  glass=True,\n",
    "     )\n",
    "\n"
   ]
  },
  {
   "cell_type": "code",
   "execution_count": null,
   "metadata": {},
   "outputs": [],
   "source": [
    "tool.material"
   ]
  },
  {
   "cell_type": "code",
   "execution_count": null,
   "metadata": {},
   "outputs": [],
   "source": [
    "# Machined volume\n",
    "# Machining requires a face or face projection.\n",
    "# Need to deine a plane of motion for each G0/G1 operation.\n",
    "# Project part onto plane & do a stock.sweep with that 2D geo.\n",
    "\n",
    "# removed = sweep()\n",
    "\n",
    "# Move tool to first position\n",
    "z = -0.75\n",
    "vec = Vector(-0.318, -1.75,z)\n",
    "tool.location = Location(vec)\n",
    "\n",
    "# First move\n",
    "edge = Edge.make_line((-0.3175, -0.9525, z), (-0.3175, 30.74625, z))\n",
    "normal = edge.vertices()[1] - edge.vertices()[0]\n",
    "normal = Vector(normal)\n",
    "\n",
    "# Create plane at tool center\n",
    "origin = tool.position\n",
    "p = Plane(origin=origin, x_dir=(1, 0, 0), z_dir=-normal)\n",
    "\n",
    "# Project tool face onto plane\n",
    "# Projection issue:\n",
    "# https://github.com/gumyr/build123d/issues/563\n",
    "# toolface = tool.faces()[0]\n",
    "# toolface = toolface.project(p)\n",
    "\n",
    "r = Rectangle(tool.diameter, tool.length)\n",
    "\n",
    "r = r.translate((0, tool.length / 2))\n",
    "\n",
    "# To top of stock\n",
    "z = stock.bounding_box().max.Z\n",
    "r = r.translate((0, z))\n",
    "\n",
    "\n",
    "# Cut position\n",
    "r = r.translate((0, -f.doc))\n",
    "\n",
    "projection = p * r\n",
    "\n",
    "cut = sweep(projection, path=edge)\n",
    "stock2 = stock2 - cut\n",
    "\n",
    "# Until they've figured out how to project non-planar faces,\n",
    "# we'll have to use a workaround.\n",
    "# Create 2D geometry for a rectangle the would be projected.\n",
    "\n",
    "# Example generic sweep command\n",
    "# https://build123d.readthedocs.io/en/latest/examples_1.html#peg-board-hook\n",
    "# mainp = sweep(Plane.YZ * Circle(radius=maind / 2), path=wire)"
   ]
  },
  {
   "cell_type": "code",
   "execution_count": null,
   "metadata": {},
   "outputs": [],
   "source": [
    "# Update display\n",
    "parts = [part, stock, tool, toolpath, stock2, cut]\n",
    "show(\n",
    "    *parts,\n",
    "    # measure_tools=True,\n",
    "    #  glass=True,\n",
    ")"
   ]
  },
  {
   "cell_type": "code",
   "execution_count": null,
   "metadata": {},
   "outputs": [],
   "source": []
  }
 ],
 "metadata": {
  "kernelspec": {
   "display_name": "gcode-utilities-41Lj-jHD",
   "language": "python",
   "name": "python3"
  },
  "language_info": {
   "codemirror_mode": {
    "name": "ipython",
    "version": 3
   },
   "file_extension": ".py",
   "mimetype": "text/x-python",
   "name": "python",
   "nbconvert_exporter": "python",
   "pygments_lexer": "ipython3",
   "version": "3.10.14"
  }
 },
 "nbformat": 4,
 "nbformat_minor": 2
}
