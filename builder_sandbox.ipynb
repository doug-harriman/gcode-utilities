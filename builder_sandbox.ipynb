{
 "cells": [
  {
   "cell_type": "markdown",
   "metadata": {},
   "source": [
    "# Builder123D Sandbox\n",
    "\n",
    "## Important Links:\n",
    "* [Builder123D Github](https://github.com/gumyr/build123d)\n",
    "    * [Documentation](https://build123d.readthedocs.io/en/latest)\n",
    "    * [Geometric & Topological Primitives](https://build123d.readthedocs.io/en/latest/direct_api_reference.html#)\n",
    "    * [1D/2D/3D Objects](https://build123d.readthedocs.io/en/latest/objects.html#)\n",
    "    * [Selectors](https://build123d.readthedocs.io/en/latest/key_concepts.html#selectors)\n",
    "* [VSCode Visualization Plugin](https://marketplace.visualstudio.com/items?itemName=bernhard-42.ocp-cad-viewer)\n",
    "    * [Source](https://github.com/bernhard-42/vscode-ocp-cad-viewer/tree/main)\n",
    "    * [3CAD Viewer](https://github.com/bernhard-42/three-cad-viewer?tab=readme-ov-file), base for the plugin.\n",
    "    * [Animation Primer](https://github.com/bernhard-42/bd_animation)\n",
    "* [Simple CAM package](https://ocp-freecad-cam.readthedocs.io/en/latest/index.html)\n",
    "\n",
    "## Other Links\n",
    "* [List of Links](https://github.com/phillipthelen/awesome-build123d)\n",
    "* [Parts Library](https://github.com/gumyr/bd_warehouse)\n",
    "* [Gridfiniy](https://github.com/Ruudjhuu/gridfinity_build123d)\n",
    "* [Alternate Viewer](https://github.com/yeicor-3d/yet-another-cad-viewer)\n",
    "\n"
   ]
  },
  {
   "cell_type": "code",
   "execution_count": 1,
   "metadata": {},
   "outputs": [],
   "source": [
    "from build123d import *\n",
    "from builder123d_utils import *\n",
    "from ocp_vscode import show, show_object, show_clear\n",
    "from pathlib import Path\n",
    "from operations import OperationFace, stock_make, OperationBore\n",
    "from tools import Tool\n",
    "import numpy as np\n",
    "from typing import List, Tuple\n"
   ]
  },
  {
   "cell_type": "code",
   "execution_count": 2,
   "metadata": {},
   "outputs": [],
   "source": [
    "\n",
    "# Alsways need 3 pieces of geometry for a machining operation:\n",
    "# 1) The part\n",
    "# 2) The stock\n",
    "# 3) The tool\n",
    "\n",
    "# 1) Load a 3D model from a file\n",
    "fn_part = 'simple-part-with-holes.step'\n",
    "part = import_step(fn_part)\n",
    "part.label = Path(fn_part).stem\n",
    "part.color = Color(\"Orange\")\n",
    "part.color = Color(\"Gray\",alpha=0.5)\n",
    "\n",
    "# 2) Generate fitting stock\n",
    "stock = stock_make(part, margin=2)\n",
    "\n",
    "# 3) Create tool and home it\n",
    "tool = Tool(diameter=3.175, length=25.4)\n",
    "#tool.to_stock_home(stock)"
   ]
  },
  {
   "cell_type": "code",
   "execution_count": 6,
   "metadata": {},
   "outputs": [
    {
     "name": "stdout",
     "output_type": "stream",
     "text": [
      "c--c--c--c--c--c--c--c--c--c"
     ]
    },
    {
     "data": {
      "text/plain": [
       "[None, None, None]"
      ]
     },
     "execution_count": 6,
     "metadata": {},
     "output_type": "execute_result"
    }
   ],
   "source": [
    "# Status:\n",
    "# Bore operation implemented, untested.\n",
    "# Curved wires not implemented yet. - operations.py:445\n",
    "# Curved lofts for generating swept volume not implemented yet\n",
    "\n",
    "op = OperationBore(part, tool, stock)\n",
    "bores = op.bores\n",
    "\n",
    "show_clear()\n",
    "show(part)\n",
    "[b.show() for b in bores]\n"
   ]
  },
  {
   "cell_type": "markdown",
   "metadata": {},
   "source": []
  }
 ],
 "metadata": {
  "kernelspec": {
   "display_name": "gcode-utilities-41Lj-jHD",
   "language": "python",
   "name": "python3"
  },
  "language_info": {
   "codemirror_mode": {
    "name": "ipython",
    "version": 3
   },
   "file_extension": ".py",
   "mimetype": "text/x-python",
   "name": "python",
   "nbconvert_exporter": "python",
   "pygments_lexer": "ipython3",
   "version": "3.10.14"
  }
 },
 "nbformat": 4,
 "nbformat_minor": 2
}
